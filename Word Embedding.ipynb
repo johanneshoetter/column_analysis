{
 "cells": [
  {
   "cell_type": "markdown",
   "metadata": {},
   "source": [
    "# Word Embedding"
   ]
  },
  {
   "cell_type": "markdown",
   "metadata": {},
   "source": [
    "uses GloVe word embeddings"
   ]
  },
  {
   "cell_type": "code",
   "execution_count": 1,
   "metadata": {},
   "outputs": [],
   "source": [
    "import torch\n",
    "import torch.nn as nn\n",
    "from torch.autograd import Variable\n",
    "import numpy as np\n",
    "import json\n",
    "import numpy as np\n",
    "import os\n",
    "\n",
    "class WordEmbedding(nn.Module):\n",
    "    def __init__(self, word_emb):\n",
    "        super(WordEmbedding, self).__init__()\n",
    "        self.w2i, self.word_emb_val = word_emb\n",
    "        \n",
    "    def forward(self, word):\n",
    "        return np.array(self.word_emb_val[self.w2i.get(word)])\n",
    "    \n",
    "def load_word_emb(data_dir, word2idx_path, usedwordemb_path):\n",
    "    with open(os.path.join(data_dir, word2idx_path)) as inf:\n",
    "        w2i = json.load(inf)\n",
    "    with open(os.path.join(data_dir, usedwordemb_path), 'rb') as inf:\n",
    "        word_emb_val = np.load(inf)\n",
    "    return w2i, word_emb_val"
   ]
  },
  {
   "cell_type": "code",
   "execution_count": 2,
   "metadata": {},
   "outputs": [],
   "source": [
    "data_dir = 'data/glove'\n",
    "word2idx_path = 'word2idx.json'\n",
    "usedwordemb_path = 'usedwordemb.npy'"
   ]
  },
  {
   "cell_type": "code",
   "execution_count": 3,
   "metadata": {},
   "outputs": [],
   "source": [
    "word_emb = load_word_emb(data_dir, word2idx_path, usedwordemb_path)\n",
    "embedding = WordEmbedding(word_emb)"
   ]
  }
 ],
 "metadata": {
  "kernelspec": {
   "display_name": "Python 3",
   "language": "python",
   "name": "python3"
  },
  "language_info": {
   "codemirror_mode": {
    "name": "ipython",
    "version": 3
   },
   "file_extension": ".py",
   "mimetype": "text/x-python",
   "name": "python",
   "nbconvert_exporter": "python",
   "pygments_lexer": "ipython3",
   "version": "3.7.5"
  }
 },
 "nbformat": 4,
 "nbformat_minor": 2
}
