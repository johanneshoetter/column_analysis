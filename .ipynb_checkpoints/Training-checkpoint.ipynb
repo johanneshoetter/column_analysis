{
 "cells": [
  {
   "cell_type": "code",
   "execution_count": 1,
   "metadata": {},
   "outputs": [],
   "source": [
    "\"\"\"\n",
    "Pytorch implementation of Pointer Network.\n",
    "http://arxiv.org/pdf/1506.03134v1.pdf.\n",
    "\"\"\"\n",
    "\n",
    "import torch\n",
    "import torch.optim as optim\n",
    "import torch.backends.cudnn as cudnn\n",
    "from torch.autograd import Variable\n",
    "from torch.utils.data import DataLoader"
   ]
  },
  {
   "cell_type": "code",
   "execution_count": 2,
   "metadata": {},
   "outputs": [],
   "source": [
    "import numpy as np\n",
    "import argparse\n",
    "from tqdm import tqdm\n",
    "\n",
    "from models.augmented_pointer import PointerNet\n",
    "from utils.dataset import ExtendedWikiSQL"
   ]
  },
  {
   "cell_type": "code",
   "execution_count": 3,
   "metadata": {},
   "outputs": [],
   "source": [
    "import warnings\n",
    "warnings.filterwarnings(\"ignore\")"
   ]
  },
  {
   "cell_type": "code",
   "execution_count": 4,
   "metadata": {},
   "outputs": [],
   "source": [
    "params = {\n",
    "    # Data\n",
    "    'batch_size': 2,\n",
    "    'shuffle': False,\n",
    "    'nof_workers': 0,\n",
    "    #Train\n",
    "    'nof_epoch': 3,\n",
    "    'lr': 0.1,\n",
    "    # GPU\n",
    "    'gpu': True,\n",
    "    # Network\n",
    "    'embedding_size': 300,\n",
    "    'hiddens': 512,\n",
    "    'nof_lstms': 5,\n",
    "    'dropout': 0.1,\n",
    "    'bidir': False # True not working right now\n",
    "}"
   ]
  },
  {
   "cell_type": "code",
   "execution_count": 5,
   "metadata": {},
   "outputs": [
    {
     "name": "stdout",
     "output_type": "stream",
     "text": [
      "Using GPU, 1 devices.\n"
     ]
    }
   ],
   "source": [
    "if params['gpu'] and torch.cuda.is_available():\n",
    "    USE_CUDA = True\n",
    "    print('Using GPU, %i devices.' % torch.cuda.device_count())\n",
    "else:\n",
    "    USE_CUDA = False"
   ]
  },
  {
   "cell_type": "code",
   "execution_count": 6,
   "metadata": {},
   "outputs": [],
   "source": [
    "def generate_batch(batch):\n",
    "    \n",
    "    def pad_inputs(inputs, targets, max_len, emb_size=300):\n",
    "        inputs_padded = []\n",
    "        targets_padded = []\n",
    "        for i, t in zip(inputs, targets):\n",
    "            i_padding = np.zeros((max_len - len(i), emb_size))\n",
    "            t_padding = np.zeros(max_len - len(i))\n",
    "            i_padded = np.concatenate((i, i_padding), 0)\n",
    "            t_padded = np.concatenate((t, t_padding), 0)\n",
    "            inputs_padded.append(i_padded), targets_padded.append(t_padded)\n",
    "        return np.array(inputs_padded), np.array(targets_padded)\n",
    "\n",
    "    inputs = [entry['input'] for entry in batch]\n",
    "    targets = [entry['target'] for entry in batch]\n",
    "    max_len = len(max(inputs, key=len))\n",
    "    inputs, targets = pad_inputs(inputs, targets, max_len)\n",
    "    inputs = torch.from_numpy(inputs)\n",
    "    targets = torch.from_numpy(targets)\n",
    "    return {'input': inputs.float(), 'target': targets.long()}"
   ]
  },
  {
   "cell_type": "code",
   "execution_count": 7,
   "metadata": {},
   "outputs": [],
   "source": [
    "model = PointerNet(params['embedding_size'],\n",
    "                   params['hiddens'],\n",
    "                   params['nof_lstms'],\n",
    "                   params['dropout'],\n",
    "                   params['bidir'])\n",
    "\n",
    "dataset = ExtendedWikiSQL()\n",
    "dataset.load_from_torch('training/data/ewikisql')\n",
    "\n",
    "dataloader = DataLoader(dataset,\n",
    "                        batch_size=params['batch_size'],\n",
    "                        shuffle=params['shuffle'],\n",
    "                        num_workers=params['nof_workers'],\n",
    "                        collate_fn=generate_batch)\n",
    "\n",
    "if USE_CUDA:\n",
    "    model.cuda()\n",
    "    net = torch.nn.DataParallel(model, device_ids=range(torch.cuda.device_count()))\n",
    "    cudnn.benchmark = True\n",
    "\n",
    "CCE = torch.nn.CrossEntropyLoss()\n",
    "model_optim = optim.Adam(filter(lambda p: p.requires_grad,\n",
    "                                model.parameters()),\n",
    "                         lr=params['lr'])\n"
   ]
  },
  {
   "cell_type": "code",
   "execution_count": 8,
   "metadata": {},
   "outputs": [
    {
     "name": "stderr",
     "output_type": "stream",
     "text": [
      "Batch 1/3: 100%|██████████████████████████████████████████████| 3/3 [00:04<00:00,  1.64s/Batch, loss=5.411667823791504]\n",
      "Batch 2/3: 100%|█████████████████████████████████████████████| 3/3 [00:04<00:00,  1.52s/Batch, loss=5.4116716384887695]\n",
      "Batch 3/3: 100%|██████████████████████████████████████████████| 3/3 [00:04<00:00,  1.46s/Batch, loss=5.411691188812256]\n"
     ]
    }
   ],
   "source": [
    "losses = []\n",
    "\n",
    "for epoch in range(params['nof_epoch']):\n",
    "    batch_loss = []\n",
    "    iterator = tqdm(dataloader, unit='Batch')\n",
    "\n",
    "    for i_batch, sample_batched in enumerate(iterator):\n",
    "        iterator.set_description('Batch %i/%i' % (epoch+1, params['nof_epoch']))\n",
    "\n",
    "\n",
    "        train_batch = Variable(sample_batched['input'])\n",
    "        target_batch = Variable(sample_batched['target'])\n",
    "\n",
    "        if USE_CUDA:\n",
    "            train_batch = train_batch.cuda()\n",
    "            target_batch = target_batch.cuda()\n",
    "\n",
    "        o, p = model(train_batch)\n",
    "        o = o.contiguous().view(-1, o.size()[-1])\n",
    "\n",
    "        target_batch = target_batch.view(-1)\n",
    "    \n",
    "        loss = CCE(o, target_batch) # need to take the length of the table into account\n",
    "\n",
    "        #losses.append(loss.data[0])\n",
    "        #batch_loss.append(loss.data[0])\n",
    "        \n",
    "        losses.append(loss.data)\n",
    "        batch_loss.append(loss.data)\n",
    "\n",
    "        model_optim.zero_grad()\n",
    "        loss.backward()\n",
    "        model_optim.step()\n",
    "        \n",
    "        #iterator.set_postfix(loss='{}'.format(loss.data[0]))\n",
    "        iterator.set_postfix(loss='{}'.format(loss.data))\n",
    "    batch_loss = torch.Tensor(batch_loss)\n",
    "    iterator.set_postfix(loss=np.average(batch_loss))"
   ]
  },
  {
   "cell_type": "markdown",
   "metadata": {},
   "source": [
    "TODOs:\n",
    "- Augmented Pointer für Batch Sizes > 1 ermöglichen"
   ]
  }
 ],
 "metadata": {
  "kernelspec": {
   "display_name": "Python 3",
   "language": "python",
   "name": "python3"
  },
  "language_info": {
   "codemirror_mode": {
    "name": "ipython",
    "version": 3
   },
   "file_extension": ".py",
   "mimetype": "text/x-python",
   "name": "python",
   "nbconvert_exporter": "python",
   "pygments_lexer": "ipython3",
   "version": "3.7.5"
  }
 },
 "nbformat": 4,
 "nbformat_minor": 2
}
