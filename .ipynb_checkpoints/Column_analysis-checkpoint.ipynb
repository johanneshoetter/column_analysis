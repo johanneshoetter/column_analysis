{
 "cells": [
  {
   "cell_type": "code",
   "execution_count": 1,
   "metadata": {},
   "outputs": [],
   "source": [
    "import pandas as pd\n",
    "from sqlalchemy import create_engine\n",
    "db_name = 'data/db/wikisql'\n",
    "engine = create_engine('sqlite:///{}.db'.format(db_name))"
   ]
  },
  {
   "cell_type": "code",
   "execution_count": 3,
   "metadata": {},
   "outputs": [
    {
     "data": {
      "text/html": [
       "<div>\n",
       "<style scoped>\n",
       "    .dataframe tbody tr th:only-of-type {\n",
       "        vertical-align: middle;\n",
       "    }\n",
       "\n",
       "    .dataframe tbody tr th {\n",
       "        vertical-align: top;\n",
       "    }\n",
       "\n",
       "    .dataframe thead th {\n",
       "        text-align: right;\n",
       "    }\n",
       "</style>\n",
       "<table border=\"1\" class=\"dataframe\">\n",
       "  <thead>\n",
       "    <tr style=\"text-align: right;\">\n",
       "      <th></th>\n",
       "      <th>index</th>\n",
       "      <th>table_id</th>\n",
       "      <th>header</th>\n",
       "      <th>question</th>\n",
       "      <th>targets</th>\n",
       "    </tr>\n",
       "  </thead>\n",
       "  <tbody>\n",
       "    <tr>\n",
       "      <th>0</th>\n",
       "      <td>0</td>\n",
       "      <td>1-1672976-2</td>\n",
       "      <td>Phonetic|Loss|Current Streak|ICAO|Away Losses|...</td>\n",
       "      <td>What institution had 6 wins and a current stre...</td>\n",
       "      <td>0|1|1|0|1|0|0|0|0|0|0|0|1|0|0|0|0|0|0|0|0|0|1|...</td>\n",
       "    </tr>\n",
       "    <tr>\n",
       "      <th>1</th>\n",
       "      <td>1</td>\n",
       "      <td>2-14245-3</td>\n",
       "      <td>Away team score|Opponent|Table|Winning mentor|...</td>\n",
       "      <td>Capital of brześć nad bugiem has what populati...</td>\n",
       "      <td>0|0|0|0|0|0|0|0|0|0|0|1|0|0|0|0|0|0|0|0|0|0|0|...</td>\n",
       "    </tr>\n",
       "    <tr>\n",
       "      <th>2</th>\n",
       "      <td>2</td>\n",
       "      <td>2-17692986-2</td>\n",
       "      <td>Points|2010–11|Tries for|Top 10|Air Date|Platf...</td>\n",
       "      <td>What time is listed against the Wrestler Jimmy...</td>\n",
       "      <td>0|0|0|0|0|0|0|0|1|0|0|0|0|0|0|0|0|0|0|0|0|0|0|...</td>\n",
       "    </tr>\n",
       "    <tr>\n",
       "      <th>3</th>\n",
       "      <td>3</td>\n",
       "      <td>2-15039040-6</td>\n",
       "      <td>Time|General Sec|Japanese|Other awards|Discuss...</td>\n",
       "      <td>What is the rank for the 96 floors?</td>\n",
       "      <td>0|0|0|0|0|0|0|0|1|0|0|0|0|0|0|0|0|0|0|0|0|0|1|...</td>\n",
       "    </tr>\n",
       "    <tr>\n",
       "      <th>4</th>\n",
       "      <td>4</td>\n",
       "      <td>2-17306260-2</td>\n",
       "      <td>Outcome|Score|German|Area|Co-Champions|Transmi...</td>\n",
       "      <td>Which second team had a first leg score of 83-69?</td>\n",
       "      <td>0|0|0|0|0|0|0|0|0|0|0|0|1|1|0|0|1|0|0|0|0|0|0|...</td>\n",
       "    </tr>\n",
       "  </tbody>\n",
       "</table>\n",
       "</div>"
      ],
      "text/plain": [
       "   index      table_id                                             header  \\\n",
       "0      0   1-1672976-2  Phonetic|Loss|Current Streak|ICAO|Away Losses|...   \n",
       "1      1     2-14245-3  Away team score|Opponent|Table|Winning mentor|...   \n",
       "2      2  2-17692986-2  Points|2010–11|Tries for|Top 10|Air Date|Platf...   \n",
       "3      3  2-15039040-6  Time|General Sec|Japanese|Other awards|Discuss...   \n",
       "4      4  2-17306260-2  Outcome|Score|German|Area|Co-Champions|Transmi...   \n",
       "\n",
       "                                            question  \\\n",
       "0  What institution had 6 wins and a current stre...   \n",
       "1  Capital of brześć nad bugiem has what populati...   \n",
       "2  What time is listed against the Wrestler Jimmy...   \n",
       "3                What is the rank for the 96 floors?   \n",
       "4  Which second team had a first leg score of 83-69?   \n",
       "\n",
       "                                             targets  \n",
       "0  0|1|1|0|1|0|0|0|0|0|0|0|1|0|0|0|0|0|0|0|0|0|1|...  \n",
       "1  0|0|0|0|0|0|0|0|0|0|0|1|0|0|0|0|0|0|0|0|0|0|0|...  \n",
       "2  0|0|0|0|0|0|0|0|1|0|0|0|0|0|0|0|0|0|0|0|0|0|0|...  \n",
       "3  0|0|0|0|0|0|0|0|1|0|0|0|0|0|0|0|0|0|0|0|0|0|1|...  \n",
       "4  0|0|0|0|0|0|0|0|0|0|0|0|1|1|0|0|1|0|0|0|0|0|0|...  "
      ]
     },
     "execution_count": 3,
     "metadata": {},
     "output_type": "execute_result"
    }
   ],
   "source": [
    "extended_wikisql = pd.read_sql_table('EWikiSQL', con=engine)\n",
    "extended_wikisql.head()"
   ]
  },
  {
   "cell_type": "code",
   "execution_count": 11,
   "metadata": {},
   "outputs": [
    {
     "data": {
      "image/png": "[encoded data removed]",
      "text/plain": [
       "<Figure size 432x288 with 1 Axes>"
      ]
     },
     "metadata": {
      "needs_background": "light"
     },
     "output_type": "display_data"
    }
   ],
   "source": [
    "import matplotlib.pyplot as plt\n",
    "plt.hist(extended_wikisql['targets'].apply(lambda x: len(x.split('|'))).values);"
   ]
  }
 ],
 "metadata": {
  "kernelspec": {
   "display_name": "Python 3",
   "language": "python",
   "name": "python3"
  },
  "language_info": {
   "codemirror_mode": {
    "name": "ipython",
    "version": 3
   },
   "file_extension": ".py",
   "mimetype": "text/x-python",
   "name": "python",
   "nbconvert_exporter": "python",
   "pygments_lexer": "ipython3",
   "version": "3.7.5"
  }
 },
 "nbformat": 4,
 "nbformat_minor": 2
}
