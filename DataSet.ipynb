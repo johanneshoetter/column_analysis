{
 "cells": [
  {
   "cell_type": "code",
   "execution_count": 1,
   "metadata": {},
   "outputs": [],
   "source": [
    "import pandas as pd\n",
    "from sqlalchemy import create_engine\n",
    "import torch\n",
    "import os\n",
    "\n",
    "#from utils.dataset import ExtendedWikiSQL\n",
    "\n",
    "from preprocessing.word_embedding import *\n",
    "\n",
    "db_name = 'data/db/wikisql'\n",
    "engine = create_engine('sqlite:///{}.db'.format(db_name))"
   ]
  },
  {
   "cell_type": "code",
   "execution_count": 2,
   "metadata": {},
   "outputs": [
    {
     "data": {
      "text/html": [
       "<div>\n",
       "<style scoped>\n",
       "    .dataframe tbody tr th:only-of-type {\n",
       "        vertical-align: middle;\n",
       "    }\n",
       "\n",
       "    .dataframe tbody tr th {\n",
       "        vertical-align: top;\n",
       "    }\n",
       "\n",
       "    .dataframe thead th {\n",
       "        text-align: right;\n",
       "    }\n",
       "</style>\n",
       "<table border=\"1\" class=\"dataframe\">\n",
       "  <thead>\n",
       "    <tr style=\"text-align: right;\">\n",
       "      <th></th>\n",
       "      <th>index</th>\n",
       "      <th>table_id</th>\n",
       "      <th>header</th>\n",
       "      <th>question</th>\n",
       "      <th>targets</th>\n",
       "    </tr>\n",
       "  </thead>\n",
       "  <tbody>\n",
       "    <tr>\n",
       "      <th>0</th>\n",
       "      <td>0</td>\n",
       "      <td>1-1672976-2</td>\n",
       "      <td>[Date of appointment, City of license, Neutral...</td>\n",
       "      <td>What institution had 6 wins and a current stre...</td>\n",
       "      <td>[0, 0, 1, 0, 1, 1, 0, 0, 1, 0, 0, 0, 0, 0, 0, ...</td>\n",
       "    </tr>\n",
       "    <tr>\n",
       "      <th>1</th>\n",
       "      <td>1</td>\n",
       "      <td>2-14245-3</td>\n",
       "      <td>[Country, Opponent, Area (1930) in 1,000skm 2,...</td>\n",
       "      <td>Capital of brześć nad bugiem has what populati...</td>\n",
       "      <td>[0, 0, 1, 0, 0, 1, 0, 0, 0, 0, 0, 0, 0, 0, 0, ...</td>\n",
       "    </tr>\n",
       "    <tr>\n",
       "      <th>2</th>\n",
       "      <td>2</td>\n",
       "      <td>2-17692986-2</td>\n",
       "      <td>[Wrestler, Total Passengers, Time, Production ...</td>\n",
       "      <td>What time is listed against the Wrestler Jimmy...</td>\n",
       "      <td>[1, 0, 1, 0, 0, 1, 1, 0, 1, 0, 0, 0, 0, 0]</td>\n",
       "    </tr>\n",
       "    <tr>\n",
       "      <th>3</th>\n",
       "      <td>3</td>\n",
       "      <td>2-15039040-6</td>\n",
       "      <td>[Legs, Other details, Project Name, Class AA, ...</td>\n",
       "      <td>What is the rank for the 96 floors?</td>\n",
       "      <td>[0, 0, 0, 0, 0, 0, 0, 0, 1, 0, 1, 0, 0, 1, 0, ...</td>\n",
       "    </tr>\n",
       "    <tr>\n",
       "      <th>4</th>\n",
       "      <td>4</td>\n",
       "      <td>2-17306260-2</td>\n",
       "      <td>[Away team score, Manufacturer, Film title use...</td>\n",
       "      <td>Which second team had a first leg score of 83-69?</td>\n",
       "      <td>[0, 0, 0, 0, 0, 0, 0, 0, 0, 0, 0, 0, 0, 0, 1, ...</td>\n",
       "    </tr>\n",
       "  </tbody>\n",
       "</table>\n",
       "</div>"
      ],
      "text/plain": [
       "   index      table_id                                             header  \\\n",
       "0      0   1-1672976-2  [Date of appointment, City of license, Neutral...   \n",
       "1      1     2-14245-3  [Country, Opponent, Area (1930) in 1,000skm 2,...   \n",
       "2      2  2-17692986-2  [Wrestler, Total Passengers, Time, Production ...   \n",
       "3      3  2-15039040-6  [Legs, Other details, Project Name, Class AA, ...   \n",
       "4      4  2-17306260-2  [Away team score, Manufacturer, Film title use...   \n",
       "\n",
       "                                            question  \\\n",
       "0  What institution had 6 wins and a current stre...   \n",
       "1  Capital of brześć nad bugiem has what populati...   \n",
       "2  What time is listed against the Wrestler Jimmy...   \n",
       "3                What is the rank for the 96 floors?   \n",
       "4  Which second team had a first leg score of 83-69?   \n",
       "\n",
       "                                             targets  \n",
       "0  [0, 0, 1, 0, 1, 1, 0, 0, 1, 0, 0, 0, 0, 0, 0, ...  \n",
       "1  [0, 0, 1, 0, 0, 1, 0, 0, 0, 0, 0, 0, 0, 0, 0, ...  \n",
       "2         [1, 0, 1, 0, 0, 1, 1, 0, 1, 0, 0, 0, 0, 0]  \n",
       "3  [0, 0, 0, 0, 0, 0, 0, 0, 1, 0, 1, 0, 0, 1, 0, ...  \n",
       "4  [0, 0, 0, 0, 0, 0, 0, 0, 0, 0, 0, 0, 0, 0, 1, ...  "
      ]
     },
     "execution_count": 2,
     "metadata": {},
     "output_type": "execute_result"
    }
   ],
   "source": [
    "extended_wikisql = pd.read_sql_table('EWikiSQL', con=engine)\n",
    "extended_wikisql['header'] = extended_wikisql['header'].apply(lambda x: x.split('|'))\n",
    "extended_wikisql['targets'] = extended_wikisql['targets'].apply(lambda x: x.split('|'))\n",
    "extended_wikisql.head()"
   ]
  },
  {
   "cell_type": "code",
   "execution_count": 3,
   "metadata": {},
   "outputs": [],
   "source": [
    "data_dir = os.path.join('data', 'glove')\n",
    "word2idx_path = 'word2idx.json'\n",
    "usedwordemb_path = 'usedwordemb.npy'\n",
    "\n",
    "word_emb = load_word_emb(data_dir, word2idx_path, usedwordemb_path)\n",
    "embedding = WordEmbedding(word_emb)"
   ]
  },
  {
   "cell_type": "code",
   "execution_count": 40,
   "metadata": {},
   "outputs": [],
   "source": [
    "import torch\n",
    "import os\n",
    "\n",
    "\n",
    "class ExtendedWikiSQL():\n",
    "    \n",
    "    def __init__(self):\n",
    "        self.inputs, self.targets = [], []\n",
    "        \n",
    "    def __len__(self):\n",
    "        return len(self.inputs)\n",
    "    \n",
    "    def __getitem__(self, idx):\n",
    "        return {\n",
    "            'input': self.inputs[idx],\n",
    "            'target': self.targets[idx]\n",
    "        }\n",
    "    \n",
    "    def load_from_df(self, ewikisql_df, embedding, initialize=True):\n",
    "        if initialize:\n",
    "            self.inputs, self.targets = [],[]\n",
    "            \n",
    "        for idx, row in ewikisql_df.iterrows():\n",
    "            header, question, target = row[['header', 'question', 'targets']]\n",
    "            input_pre = [embedding(word.lower()) for word in question]\n",
    "            input_suf = [embedding(word.lower()) for word in header]\n",
    "            input_sequence = [embedding('<BEG>')] + input_pre + [embedding('<SEQ>')] + input_suf + [embedding('<END>')]\n",
    "\n",
    "            target_pre = [0 for word in question] # question\n",
    "            target_suf = [1 if indicator == '1' else 0 for indicator in target] # header\n",
    "            target_sequence = [0] + target_pre + [0] + target_suf + [0]\n",
    "            \n",
    "            self.inputs.append(torch.Tensor(input_sequence))\n",
    "            self.targets.append(torch.LongTensor(target_sequence))\n",
    "                \n",
    "    def load_from_torch(self, path):\n",
    "        self.inputs = torch.load('{}_inputs.pt'.format(path))\n",
    "        self.targets = torch.load('{}_targets.pt'.format(path))\n",
    "    \n",
    "    def save_to_torch(self, path):\n",
    "        torch.save(self.inputs, '{}_inputs.pt'.format(path))\n",
    "        torch.save(self.targets, '{}_targets.pt'.format(path))"
   ]
  },
  {
   "cell_type": "code",
   "execution_count": 41,
   "metadata": {
    "scrolled": true
   },
   "outputs": [],
   "source": [
    "data = ExtendedWikiSQL()\n",
    "data.load_from_df(extended_wikisql.head(5), embedding)"
   ]
  },
  {
   "cell_type": "code",
   "execution_count": 42,
   "metadata": {},
   "outputs": [],
   "source": [
    "data.save_to_torch('training/data/ewikisql')"
   ]
  },
  {
   "cell_type": "markdown",
   "metadata": {},
   "source": [
    "---"
   ]
  }
 ],
 "metadata": {
  "kernelspec": {
   "display_name": "Python 3",
   "language": "python",
   "name": "python3"
  },
  "language_info": {
   "codemirror_mode": {
    "name": "ipython",
    "version": 3
   },
   "file_extension": ".py",
   "mimetype": "text/x-python",
   "name": "python",
   "nbconvert_exporter": "python",
   "pygments_lexer": "ipython3",
   "version": "3.7.5"
  }
 },
 "nbformat": 4,
 "nbformat_minor": 2
}
